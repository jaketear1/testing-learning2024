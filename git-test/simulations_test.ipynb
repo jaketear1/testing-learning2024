{
 "cells": [
  {
   "cell_type": "code",
   "execution_count": null,
   "metadata": {},
   "outputs": [],
   "source": [
    "import matplotlib.pyplot as plt\n",
    "import numpy as np\n",
    "import pandas as pd\n",
    "import scipy.stats as sp\n",
    "from scipy.stats import norm\n",
    "import seaborn as sns\n",
    "import statsmodels.api as sm\n",
    "from scipy.stats import pearsonr\n",
    "import mne\n",
    "\n",
    "def sine_func(fs, freq, amp, time):\n",
    "    samples = fs*time\n",
    "    time = np.arange(samples)\n",
    "    voltage = amp * np.sin(2 * np.pi * freq * time / fs)\n",
    "    \n",
    "    return time, voltage"
   ]
  },
  {
   "cell_type": "markdown",
   "metadata": {},
   "source": [
    "## testing old COGS280 data"
   ]
  },
  {
   "cell_type": "code",
   "execution_count": null,
   "metadata": {},
   "outputs": [],
   "source": [
    "# Whole time series -- 30390 time points\n",
    "raw_EO = mne.io.read_raw_eeglab(r'C:\\Users\\Jake\\testing-learning2024\\Data\\MichaelEOxdf.set', verbose = False)\n",
    "\n",
    "channels = getattr(raw_EO, \"ch_names\")\n",
    "n_channels = len(channels)\n",
    "tau = 10\n",
    "time_points = len(raw_EO)\n",
    "print(time_points)\n",
    "Forw = np.zeros((n_channels, n_channels))\n",
    "Rev = np.zeros((n_channels, n_channels))\n",
    "\n",
    "forw_data = raw_EO.get_data()\n",
    "rev_data = np.flip(forw_data, 1)\n",
    "\n",
    "for i in range(n_channels):\n",
    "    for j in range(n_channels):\n",
    "      x = pearsonr(forw_data[i,0:time_points-tau], forw_data[j,tau:time_points])\n",
    "      y = pearsonr(rev_data[i,0:time_points-tau], rev_data[j,tau:time_points])\n",
    "      Forw[i,j] = x[0]\n",
    "      Rev[i,j] = y[0]\n",
    "Forw = -1/2 * np.log(1 - (Forw**2))\n",
    "Rev = -1/2 * np.log(1 - (Rev**2))\n",
    "ref_matrix = (Forw - Rev)**2\n",
    "irrev = np.mean(ref_matrix)\n",
    "stationarity = np.std(ref_matrix)\n",
    "print(\"EO irrev: \" + str(irrev))\n"
   ]
  },
  {
   "cell_type": "markdown",
   "metadata": {},
   "source": [
    "## Autocorrelation function testing"
   ]
  },
  {
   "cell_type": "code",
   "execution_count": null,
   "metadata": {},
   "outputs": [],
   "source": [
    "data = mne.io.read_raw_eeglab(r'C:\\Users\\Jake\\testing-learning2024\\Data\\MichaelEOxdf.set', verbose = False)\n",
    "data = data.get_data()\n",
    "\n",
    "def autocorrelation(x, max_lag):\n",
    "    \"\"\" Compute autocorrelation using NumPy for a given max_lag \"\"\"\n",
    "    autocorr = np.correlate(x - np.mean(x), x - np.mean(x), mode='full')\n",
    "    autocorr = autocorr[autocorr.size // 2:]  # Take the second half\n",
    "    autocorr /= autocorr[0]  # Normalize\n",
    "    return autocorr[:max_lag+1]\n",
    "\n",
    "max_lag = 25  # Adjust based on your data and needs\n",
    "autocorr_values = autocorrelation(data[0,:], max_lag)\n",
    "\n",
    "plt.figure(figsize=(10, 5))\n",
    "plt.plot(autocorr_values, linestyle='-', marker='o')\n",
    "plt.title('Autocorrelation of EEG Data')\n",
    "plt.xlabel('Lag')\n",
    "plt.ylabel('Autocorrelation')\n",
    "plt.grid(True)\n",
    "plt.show()"
   ]
  }
 ],
 "metadata": {
  "language_info": {
   "name": "python"
  }
 },
 "nbformat": 4,
 "nbformat_minor": 2
}
